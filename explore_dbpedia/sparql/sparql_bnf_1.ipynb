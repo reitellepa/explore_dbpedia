{
 "cells": [
  {
   "cell_type": "markdown",
   "metadata": {},
   "source": [
    "## Exemple d'interrogation du point d'accès SPARQL de la Bibliothèque nationale de France (BNF)\n",
    "\n",
    "Dans cet exemple, après avoir interrogé le point d'accès SPARQL de la BNF, on extrait des données reçues l'année de naissance de la population et on propose différentes distributions permettant de mettre en évitence l'évolution des effectifs des auteurs d'ouvrages conservés à la BNF ayant été actifs dans les disciplines de l'économie et du droit.\n",
    "\n",
    "On créera également un document CSV exportable et analysable avec d'autres outils (un tableur par ex.).\n",
    "\n",
    "* Point d'accès SPARQL de la BNF : https://data.bnf.fr/sparql/\n",
    "* Le projet Data BNF : https://api.bnf.fr/fr/\n",
    "* L'ontologie de Data BNF : https://data.bnf.fr/en/opendata\n",
    "\n",
    "\n",
    "\n"
   ]
  },
  {
   "cell_type": "raw",
   "metadata": {},
   "source": []
  },
  {
   "cell_type": "code",
   "execution_count": null,
   "metadata": {},
   "outputs": [],
   "source": []
  },
  {
   "cell_type": "markdown",
   "metadata": {},
   "source": [
    "### Importer les librairies à utiliser"
   ]
  },
  {
   "cell_type": "code",
   "execution_count": 14,
   "metadata": {},
   "outputs": [],
   "source": [
    "from SPARQLWrapper import SPARQLWrapper, SPARQLWrapper2, JSON, TURTLE, XML, RDFXML\n",
    "import pprint\n",
    "import csv\n",
    "# from bs4 import BeautifulSoup\n",
    "import matplotlib.pyplot as plt\n",
    "\n",
    "from collections import Counter\n",
    "from operator import itemgetter\n",
    "import pandas as pd\n"
   ]
  },
  {
   "cell_type": "markdown",
   "metadata": {},
   "source": [
    "### Préparation et exécution de la requête SPARQL"
   ]
  },
  {
   "cell_type": "code",
   "execution_count": 15,
   "metadata": {},
   "outputs": [],
   "source": [
    "query = \"\"\"\n",
    "PREFIX  egr:  <http://rdvocab.info/ElementsGr2/>\n",
    "PREFIX foaf: <http://xmlns.com/foaf/0.1/>\n",
    "# PREFIX skos: <http://www.w3.org/2004/02/skos/core#>\n",
    " \n",
    "SELECT DISTINCT  ?s ?name ?prefLabel ?annee ?bio ?pb \n",
    "WHERE\n",
    "  { { \n",
    "    \n",
    "    \n",
    "    { SELECT DISTINCT  ?s ?bio\n",
    "        WHERE\n",
    "          {   { ?s egr:biographicalInformation ?bio\n",
    "                FILTER ( CONTAINS(?bio, \"économist\") || CONTAINS(?bio, \"Economist\") || CONTAINS(?bio, \"Économist\") )\n",
    "              }\n",
    "            UNION\n",
    "              { ?s egr:biographicalInformation ?bio\n",
    "                FILTER ( CONTAINS(?bio, \"jurist\") || CONTAINS(?bio, \"Juriste\") || CONTAINS(?bio, \"Droit\") || CONTAINS(?bio, \"droit\") )\n",
    "              }\n",
    "          }\n",
    "      }\n",
    "      ?s egr:dateOfBirth ?bd\n",
    "\n",
    "    OPTIONAL {?s egr:placeOfBirth ?pb}\n",
    "    OPTIONAL {?s foaf:name ?name}\n",
    "    OPTIONAL {?s skos:prefLabel ?prefLabel}\n",
    "    }\n",
    "    BIND(STRBEFORE(STRAFTER(STR(?bd), \"http://data.bnf.fr/date/\"), \"/\") AS ?annee)\n",
    "    FILTER ( ?annee > \"1800\" )\n",
    "\n",
    "  }\n",
    "\n",
    "ORDER BY ?annee\n",
    "#LIMIT 10\n",
    "\"\"\""
   ]
  },
  {
   "cell_type": "code",
   "execution_count": 16,
   "metadata": {},
   "outputs": [],
   "source": [
    "sparql = SPARQLWrapper(\"https://data.bnf.fr/sparql\") ##, returnFormat=RDFXML)"
   ]
  },
  {
   "cell_type": "code",
   "execution_count": 17,
   "metadata": {},
   "outputs": [],
   "source": [
    "sparql.setQuery(query)\n",
    "sparql.setReturnFormat(JSON)"
   ]
  },
  {
   "cell_type": "code",
   "execution_count": 18,
   "metadata": {},
   "outputs": [
    {
     "data": {
      "text/plain": [
       "dict"
      ]
     },
     "execution_count": 18,
     "metadata": {},
     "output_type": "execute_result"
    }
   ],
   "source": [
    "rc = sparql.queryAndConvert()\n",
    "type(rc)"
   ]
  },
  {
   "cell_type": "markdown",
   "metadata": {},
   "source": [
    "### Analyse du résultat"
   ]
  },
  {
   "cell_type": "code",
   "execution_count": 19,
   "metadata": {},
   "outputs": [
    {
     "data": {
      "text/plain": [
       "8405"
      ]
     },
     "execution_count": 19,
     "metadata": {},
     "output_type": "execute_result"
    }
   ],
   "source": [
    "# Nombre de lignes du résultat\n",
    "len(rc['results']['bindings'])"
   ]
  },
  {
   "cell_type": "code",
   "execution_count": 20,
   "metadata": {},
   "outputs": [
    {
     "name": "stdout",
     "output_type": "stream",
     "text": [
      "{'s': {'type': 'uri', 'value': 'http://data.bnf.fr/ark:/12148/cb120886836#about'}, 'name': {'type': 'literal', 'value': 'Carlo Cattaneo'}, 'annee': {'type': 'literal', 'value': '1801'}, 'bio': {'type': 'literal', 'value': 'Écrivain, historien et économiste. - Représente le courant fédéraliste du Risorgimento. - Fondateur du périodique scientifique \"Il Politecnico\" (1839). - Fit partie du gouvernement provisoire de Lombardie en 1848'}, 'pb': {'type': 'literal', 'value': 'Milan, Italie'}}\n",
      "{'s': {'type': 'uri', 'value': 'http://data.bnf.fr/ark:/12148/cb123560411#about'}, 'name': {'type': 'literal', 'value': 'Constantin Pecqueur'}, 'annee': {'type': 'literal', 'value': '1801'}, 'bio': {'type': 'literal', 'value': \"Économiste. - Ancien sous-bibliothécaire à la bibliothèque de l'Assemblée nationale, Paris\"}, 'pb': {'type': 'literal', 'value': 'Arlieux (Nord)'}}\n",
      "{'s': {'type': 'uri', 'value': 'http://data.bnf.fr/ark:/12148/cb118905060#about'}, 'name': {'type': 'literal', 'value': 'Frédéric Bastiat'}, 'annee': {'type': 'literal', 'value': '1801'}, 'bio': {'type': 'literal', 'value': 'Économiste. - Député de Bayonne (1848-1850)'}, 'pb': {'type': 'literal', 'value': 'Bayonne, Pyrénées-Atlantique'}}\n"
     ]
    }
   ],
   "source": [
    "# Inspecter les trois premières lignes\n",
    "i = 0\n",
    "for l in rc['results']['bindings']:\n",
    "    if i < 3:\n",
    "        print(l)\n",
    "        i += 1"
   ]
  },
  {
   "cell_type": "code",
   "execution_count": null,
   "metadata": {},
   "outputs": [],
   "source": [
    "# Extraire les valeurs des cinq premières lignes\n",
    "# Le test permet de trouver le prefLabel si le name manque\n",
    "i = 0\n",
    "result = []\n",
    "for l in rc['results']['bindings']:\n",
    "    if i < 10000 : ## 5:\n",
    "        try: \n",
    "            name = l['name']['value']\n",
    "            result.append([l['s']['value'],name,l['annee']['value'],l['bio']['value']])\n",
    "        except Exception as e :\n",
    "            print(e)\n",
    "            try: \n",
    "                name = l['prefLabel']['value']\n",
    "                result.append([l['s']['value'],name,l['annee']['value'],l['bio']['value']])\n",
    "            except Exception as e:\n",
    "                print(e)\n",
    "                result.append([l['s']['value'],'',l['annee']['value'],l['bio']['value']])\n",
    "\n",
    "        i += 1"
   ]
  },
  {
   "cell_type": "code",
   "execution_count": 22,
   "metadata": {},
   "outputs": [
    {
     "name": "stdout",
     "output_type": "stream",
     "text": [
      "8405\n"
     ]
    },
    {
     "data": {
      "text/plain": [
       "[['http://data.bnf.fr/ark:/12148/cb120886836#about',\n",
       "  'Carlo Cattaneo',\n",
       "  '1801',\n",
       "  'Écrivain, historien et économiste. - Représente le courant fédéraliste du Risorgimento. - Fondateur du périodique scientifique \"Il Politecnico\" (1839). - Fit partie du gouvernement provisoire de Lombardie en 1848'],\n",
       " ['http://data.bnf.fr/ark:/12148/cb123560411#about',\n",
       "  'Constantin Pecqueur',\n",
       "  '1801',\n",
       "  \"Économiste. - Ancien sous-bibliothécaire à la bibliothèque de l'Assemblée nationale, Paris\"],\n",
       " ['http://data.bnf.fr/ark:/12148/cb118905060#about',\n",
       "  'Frédéric Bastiat',\n",
       "  '1801',\n",
       "  'Économiste. - Député de Bayonne (1848-1850)'],\n",
       " ['http://data.bnf.fr/ark:/12148/cb11897951m#about',\n",
       "  'Antoine-Augustin Cournot',\n",
       "  '1801',\n",
       "  \"Mathématicien. - Philosophe. - Économiste. - Recteur de l'académie de Lyon\"],\n",
       " ['http://data.bnf.fr/ark:/12148/cb12815310c#about',\n",
       "  'John-Théodore Dupont-White',\n",
       "  '1801',\n",
       "  \"Avocat à Paris (1822-1830) puis procureur du roi à Montdidier, Senlis puis Beauvais. - Membre de la Société des antiquaires de Picardie. - Frère de l'économiste : Dupont-White, Charles (1807-1878)\"]]"
      ]
     },
     "execution_count": 22,
     "metadata": {},
     "output_type": "execute_result"
    }
   ],
   "source": [
    "print(len(result))\n",
    "result[:5]"
   ]
  },
  {
   "cell_type": "markdown",
   "metadata": {},
   "source": [
    "### Sauvegarder le résultat sous forme de document CSV\n",
    "Documentation: https://docs.python.org/3/library/csv.html"
   ]
  },
  {
   "cell_type": "code",
   "execution_count": 23,
   "metadata": {},
   "outputs": [],
   "source": [
    "with open('sparql_bnf_1.csv', 'w', newline='') as csvfile:\n",
    "    document = csv.writer(csvfile, delimiter='|',\n",
    "                            quotechar='\"', quoting=csv.QUOTE_MINIMAL)\n",
    "    for l in rc['results']['bindings']:\n",
    "        try: \n",
    "            name = l['name']['value']\n",
    "            document.writerow([l['s']['value'],name,l['annee']['value'],l['bio']['value']])\n",
    "        except :\n",
    "            try: \n",
    "                name = l['prefLabel']['value']\n",
    "                document.writerow([l['s']['value'],name,l['annee']['value'],l['bio']['value']])\n",
    "            except :\n",
    "                document.writerow([l['s']['value'],'',l['annee']['value'],l['bio']['value']])\n"
   ]
  },
  {
   "cell_type": "code",
   "execution_count": null,
   "metadata": {},
   "outputs": [],
   "source": []
  },
  {
   "cell_type": "code",
   "execution_count": 24,
   "metadata": {},
   "outputs": [
    {
     "data": {
      "text/html": [
       "<div>\n",
       "<style scoped>\n",
       "    .dataframe tbody tr th:only-of-type {\n",
       "        vertical-align: middle;\n",
       "    }\n",
       "\n",
       "    .dataframe tbody tr th {\n",
       "        vertical-align: top;\n",
       "    }\n",
       "\n",
       "    .dataframe thead th {\n",
       "        text-align: right;\n",
       "    }\n",
       "</style>\n",
       "<table border=\"1\" class=\"dataframe\">\n",
       "  <thead>\n",
       "    <tr style=\"text-align: right;\">\n",
       "      <th></th>\n",
       "      <th>0</th>\n",
       "      <th>1</th>\n",
       "      <th>2</th>\n",
       "      <th>3</th>\n",
       "    </tr>\n",
       "  </thead>\n",
       "  <tbody>\n",
       "    <tr>\n",
       "      <th>0</th>\n",
       "      <td>http://data.bnf.fr/ark:/12148/cb120886836#about</td>\n",
       "      <td>Carlo Cattaneo</td>\n",
       "      <td>1801</td>\n",
       "      <td>Écrivain, historien et économiste. - Représent...</td>\n",
       "    </tr>\n",
       "    <tr>\n",
       "      <th>1</th>\n",
       "      <td>http://data.bnf.fr/ark:/12148/cb123560411#about</td>\n",
       "      <td>Constantin Pecqueur</td>\n",
       "      <td>1801</td>\n",
       "      <td>Économiste. - Ancien sous-bibliothécaire à la ...</td>\n",
       "    </tr>\n",
       "    <tr>\n",
       "      <th>2</th>\n",
       "      <td>http://data.bnf.fr/ark:/12148/cb118905060#about</td>\n",
       "      <td>Frédéric Bastiat</td>\n",
       "      <td>1801</td>\n",
       "      <td>Économiste. - Député de Bayonne (1848-1850)</td>\n",
       "    </tr>\n",
       "    <tr>\n",
       "      <th>3</th>\n",
       "      <td>http://data.bnf.fr/ark:/12148/cb11897951m#about</td>\n",
       "      <td>Antoine-Augustin Cournot</td>\n",
       "      <td>1801</td>\n",
       "      <td>Mathématicien. - Philosophe. - Économiste. - R...</td>\n",
       "    </tr>\n",
       "    <tr>\n",
       "      <th>4</th>\n",
       "      <td>http://data.bnf.fr/ark:/12148/cb12815310c#about</td>\n",
       "      <td>John-Théodore Dupont-White</td>\n",
       "      <td>1801</td>\n",
       "      <td>Avocat à Paris (1822-1830) puis procureur du r...</td>\n",
       "    </tr>\n",
       "  </tbody>\n",
       "</table>\n",
       "</div>"
      ],
      "text/plain": [
       "                                                 0  \\\n",
       "0  http://data.bnf.fr/ark:/12148/cb120886836#about   \n",
       "1  http://data.bnf.fr/ark:/12148/cb123560411#about   \n",
       "2  http://data.bnf.fr/ark:/12148/cb118905060#about   \n",
       "3  http://data.bnf.fr/ark:/12148/cb11897951m#about   \n",
       "4  http://data.bnf.fr/ark:/12148/cb12815310c#about   \n",
       "\n",
       "                            1     2  \\\n",
       "0              Carlo Cattaneo  1801   \n",
       "1         Constantin Pecqueur  1801   \n",
       "2            Frédéric Bastiat  1801   \n",
       "3    Antoine-Augustin Cournot  1801   \n",
       "4  John-Théodore Dupont-White  1801   \n",
       "\n",
       "                                                   3  \n",
       "0  Écrivain, historien et économiste. - Représent...  \n",
       "1  Économiste. - Ancien sous-bibliothécaire à la ...  \n",
       "2        Économiste. - Député de Bayonne (1848-1850)  \n",
       "3  Mathématicien. - Philosophe. - Économiste. - R...  \n",
       "4  Avocat à Paris (1822-1830) puis procureur du r...  "
      ]
     },
     "execution_count": 24,
     "metadata": {},
     "output_type": "execute_result"
    }
   ],
   "source": [
    "df_result = pd.DataFrame(result)\n",
    "df_result.head()"
   ]
  },
  {
   "cell_type": "code",
   "execution_count": 25,
   "metadata": {},
   "outputs": [
    {
     "name": "stdout",
     "output_type": "stream",
     "text": [
      "[0, 1, 2, 3]\n",
      "['uri', 'name', 'annee_naiss', 'biogr']\n"
     ]
    }
   ],
   "source": [
    "print(list(df_result.columns))\n",
    "df_result.columns = ['uri', 'name', 'annee_naiss', 'biogr']\n",
    "print(list(df_result.columns))"
   ]
  },
  {
   "cell_type": "code",
   "execution_count": 26,
   "metadata": {},
   "outputs": [],
   "source": [
    "with open('spreadsheets/sparql_bnf_1.csv', 'w', newline='') as csvfile:\n",
    "    df_result.to_csv(csvfile, sep='|')"
   ]
  },
  {
   "cell_type": "code",
   "execution_count": 27,
   "metadata": {},
   "outputs": [
    {
     "data": {
      "text/plain": [
       "0       1801\n",
       "1       1801\n",
       "2       1801\n",
       "3       1801\n",
       "4       1801\n",
       "        ... \n",
       "8400    1976\n",
       "8401    1977\n",
       "8402    1979\n",
       "8403    1980\n",
       "8404    1988\n",
       "Name: annee_naiss, Length: 8405, dtype: object"
      ]
     },
     "execution_count": 27,
     "metadata": {},
     "output_type": "execute_result"
    }
   ],
   "source": [
    "df_result['annee_naiss']"
   ]
  },
  {
   "cell_type": "code",
   "execution_count": 28,
   "metadata": {},
   "outputs": [
    {
     "data": {
      "text/plain": [
       "0       1801\n",
       "1       1801\n",
       "2       1801\n",
       "3       1801\n",
       "4       1801\n",
       "        ... \n",
       "8400    1976\n",
       "8401    1977\n",
       "8402    1979\n",
       "8403    1980\n",
       "8404    1988\n",
       "Name: annee_naiss, Length: 8405, dtype: object"
      ]
     },
     "execution_count": 28,
     "metadata": {},
     "output_type": "execute_result"
    }
   ],
   "source": [
    "df_result['annee_naiss']"
   ]
  },
  {
   "cell_type": "markdown",
   "metadata": {},
   "source": [
    "### Inspecter les années de naissance et compter le nombre de naissances par années"
   ]
  },
  {
   "cell_type": "code",
   "execution_count": 29,
   "metadata": {},
   "outputs": [],
   "source": [
    "# Explore\n",
    "listeAnnees = []\n",
    "for l in rc['results']['bindings']:\n",
    "    listeAnnees.append(l['annee']['value'])"
   ]
  },
  {
   "cell_type": "code",
   "execution_count": null,
   "metadata": {},
   "outputs": [],
   "source": []
  },
  {
   "cell_type": "code",
   "execution_count": 31,
   "metadata": {},
   "outputs": [
    {
     "data": {
      "text/plain": [
       "['1803', '1803', '1803', '1803', '1803', '1803', '1803']"
      ]
     },
     "execution_count": 31,
     "metadata": {},
     "output_type": "execute_result"
    }
   ],
   "source": [
    "listeAnnees[51:58]"
   ]
  },
  {
   "cell_type": "code",
   "execution_count": 32,
   "metadata": {},
   "outputs": [
    {
     "data": {
      "text/plain": [
       "('1801', '1988')"
      ]
     },
     "execution_count": 32,
     "metadata": {},
     "output_type": "execute_result"
    }
   ],
   "source": [
    "min(listeAnnees), max(listeAnnees)"
   ]
  },
  {
   "cell_type": "code",
   "execution_count": 33,
   "metadata": {},
   "outputs": [],
   "source": [
    "listeAnnees.sort()"
   ]
  },
  {
   "cell_type": "code",
   "execution_count": 34,
   "metadata": {},
   "outputs": [
    {
     "data": {
      "text/plain": [
       "'1801'"
      ]
     },
     "execution_count": 34,
     "metadata": {},
     "output_type": "execute_result"
    }
   ],
   "source": [
    "listeAnnees[2]"
   ]
  },
  {
   "cell_type": "code",
   "execution_count": 35,
   "metadata": {},
   "outputs": [],
   "source": [
    "# Compter les naissances par année\n",
    "counterListeAnnees = Counter(listeAnnees)\n",
    "groupedListeAnnees = list(zip(counterListeAnnees.keys(), counterListeAnnees.values()))"
   ]
  },
  {
   "cell_type": "code",
   "execution_count": 36,
   "metadata": {},
   "outputs": [
    {
     "data": {
      "text/plain": [
       "[('1801', 22), ('1802', 23), ('1803', 25), ('1804', 23), ('1805', 22)]"
      ]
     },
     "execution_count": 36,
     "metadata": {},
     "output_type": "execute_result"
    }
   ],
   "source": [
    "groupedListeAnnees[:5]"
   ]
  },
  {
   "cell_type": "code",
   "execution_count": 37,
   "metadata": {},
   "outputs": [
    {
     "data": {
      "text/plain": [
       "[[1801, 22], [1802, 23], [1803, 25], [1804, 23], [1805, 22]]"
      ]
     },
     "execution_count": 37,
     "metadata": {},
     "output_type": "execute_result"
    }
   ],
   "source": [
    "# Transformer les années de chaines de caractères à chiffres\n",
    "groupedListeAnnees = [[int(i[0]), i[1]] for i in groupedListeAnnees]\n",
    "groupedListeAnnees[:5]"
   ]
  },
  {
   "cell_type": "code",
   "execution_count": 38,
   "metadata": {},
   "outputs": [],
   "source": [
    "### Créer la liste des périodes de 20 ans, i.e. la liste de la première année de chaque période\n",
    "d_list = []\n",
    "period = 20\n",
    "d_start = 1801\n",
    "i = 0\n",
    "d_list = []\n",
    "d_list.append(d_start)\n",
    "\n",
    "while i < 10:\n",
    "    d_start = d_start + period\n",
    "    d_list.append(d_start)\n",
    "    i += 1"
   ]
  },
  {
   "cell_type": "code",
   "execution_count": 39,
   "metadata": {},
   "outputs": [
    {
     "name": "stdout",
     "output_type": "stream",
     "text": [
      "[1801, 1821]\n"
     ]
    },
    {
     "data": {
      "text/plain": [
       "(1801, 2001)"
      ]
     },
     "execution_count": 39,
     "metadata": {},
     "output_type": "execute_result"
    }
   ],
   "source": [
    "print(d_list[:2])\n",
    "min(d_list), max(d_list)"
   ]
  },
  {
   "cell_type": "markdown",
   "metadata": {},
   "source": [
    "### Distribution des naissances par année et par période de 20 ans"
   ]
  },
  {
   "cell_type": "code",
   "execution_count": 40,
   "metadata": {},
   "outputs": [
    {
     "data": {
      "image/png": "[encoded data removed]",
      "text/plain": [
       "<Figure size 1152x576 with 1 Axes>"
      ]
     },
     "metadata": {
      "needs_background": "light"
     },
     "output_type": "display_data"
    }
   ],
   "source": [
    "# Distribution par année\n",
    "\n",
    "objects = [l[0] for l in groupedListeAnnees]\n",
    "eff = [l[1] for l in groupedListeAnnees]\n",
    "\n",
    "p1 = plt.bar(objects, eff)\n",
    "\n",
    "plt.xticks(d_list)\n",
    "plt.ylabel('Effectif')\n",
    "plt.title('Naissances par année')\n",
    "plt.gcf().set_size_inches(16, 8)\n",
    "#plt.gca().axes.get_xaxis().set_visible(False)\n",
    "# supported formats: eps, pdf, pgf, png, ps, raw, rgba, svg, svgz\n",
    "#plt.savefig('exported_pictures/effectifs_naissances_par_annee.png', dpi=100, bbox_inches = \"tight\") #pdf, svg\n",
    "plt.xticks(rotation=45)\n",
    "plt.show()\n"
   ]
  },
  {
   "cell_type": "code",
   "execution_count": 41,
   "metadata": {},
   "outputs": [],
   "source": [
    "# Regroupement par période de 20 ans\n",
    "i_list = []\n",
    "for i in d_list:\n",
    "    i_n = 0\n",
    "    for l in groupedListeAnnees:\n",
    "        if l[0] >= i and l[0] < (i + 20):\n",
    "            i_n = i_n + l[1]\n",
    "    i_list.append([i, i_n])        "
   ]
  },
  {
   "cell_type": "code",
   "execution_count": 42,
   "metadata": {},
   "outputs": [
    {
     "data": {
      "text/plain": [
       "[]"
      ]
     },
     "execution_count": 42,
     "metadata": {},
     "output_type": "execute_result"
    }
   ],
   "source": [
    "i_list[30:35]"
   ]
  },
  {
   "cell_type": "code",
   "execution_count": 43,
   "metadata": {},
   "outputs": [
    {
     "data": {
      "image/png": "[encoded data removed]",
      "text/plain": [
       "<Figure size 1152x576 with 1 Axes>"
      ]
     },
     "metadata": {
      "needs_background": "light"
     },
     "output_type": "display_data"
    }
   ],
   "source": [
    "# Distribution par période de 20 ans\n",
    "\n",
    "objects = [str(l[0]) for l in i_list]\n",
    "eff = [l[1] for l in i_list]\n",
    "\n",
    "p1 = plt.bar(objects, eff)\n",
    "\n",
    "plt.ylabel('Effectif')\n",
    "plt.title('Naissances par période de vingts ans')\n",
    "plt.gcf().set_size_inches(16, 8)\n",
    "# supported formats: eps, pdf, pgf, png, ps, raw, rgba, svg, svgz\n",
    "# plt.savefig('exported_pictures/effectifs_annees_reference_par_periode.png', dpi=100, bbox_inches = \"tight\") #pdf, svg\n",
    "plt.xticks(rotation=45)\n",
    "plt.show()\n"
   ]
  },
  {
   "cell_type": "code",
   "execution_count": null,
   "metadata": {},
   "outputs": [],
   "source": []
  },
  {
   "cell_type": "code",
   "execution_count": 44,
   "metadata": {},
   "outputs": [
    {
     "data": {
      "text/plain": [
       "0    Écrivain, historien et économiste. - Représent...\n",
       "1    Économiste. - Ancien sous-bibliothécaire à la ...\n",
       "2          Économiste. - Député de Bayonne (1848-1850)\n",
       "Name: biogr, dtype: object"
      ]
     },
     "execution_count": 44,
     "metadata": {},
     "output_type": "execute_result"
    }
   ],
   "source": [
    "df_result['biogr'][:3]"
   ]
  },
  {
   "cell_type": "code",
   "execution_count": 46,
   "metadata": {},
   "outputs": [
    {
     "name": "stdout",
     "output_type": "stream",
     "text": [
      "Écrivain,\n",
      "historien\n",
      "économiste.\n",
      "Représente\n",
      "courant\n",
      "fédéraliste\n",
      "Risorgimento.\n",
      "Fondateur\n",
      "périodique\n",
      "scientifique\n",
      "Politecnico\"\n",
      "(1839).\n",
      "partie\n",
      "gouvernement\n",
      "provisoire\n",
      "Lombardie\n",
      "1848\n",
      "Économiste.\n",
      "Ancien\n",
      "sous-bibliothécaire\n",
      "bibliothèque\n",
      "l'Assemblée\n",
      "nationale,\n",
      "Paris\n",
      "Économiste.\n",
      "Député\n",
      "Bayonne\n",
      "(1848-1850)\n"
     ]
    }
   ],
   "source": [
    "for l in [tok for tok in [l.split(\" \") for l in df_result['biogr'][:3]] ]:\n",
    "    for tok in l:\n",
    "        if len(tok) > 3:\n",
    "            print(tok)"
   ]
  },
  {
   "cell_type": "code",
   "execution_count": null,
   "metadata": {},
   "outputs": [],
   "source": []
  }
 ],
 "metadata": {
  "kernelspec": {
   "display_name": "Py 3.7 HN sparql",
   "language": "python",
   "name": "py37_hn_sparql"
  },
  "language_info": {
   "codemirror_mode": {
    "name": "ipython",
    "version": 3
   },
   "file_extension": ".py",
   "mimetype": "text/x-python",
   "name": "python",
   "nbconvert_exporter": "python",
   "pygments_lexer": "ipython3",
   "version": "3.7.8"
  },
  "toc-autonumbering": false
 },
 "nbformat": 4,
 "nbformat_minor": 4
}
