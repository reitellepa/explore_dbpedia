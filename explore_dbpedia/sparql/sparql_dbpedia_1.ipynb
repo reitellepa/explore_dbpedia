{
 "cells": [
  {
   "cell_type": "markdown",
   "metadata": {},
   "source": [
    "# Interrogation du point d'accès SPARQL de DBPedia (en anglais)\n",
    "\n",
    "\n",
    "Exploration des données liées aux 'économistes'\n"
   ]
  },
  {
   "cell_type": "markdown",
   "metadata": {},
   "source": [
    "## Préparation"
   ]
  },
  {
   "cell_type": "markdown",
   "metadata": {},
   "source": [
    "### Importer les librairies à utiliser"
   ]
  },
  {
   "cell_type": "code",
   "execution_count": null,
   "metadata": {},
   "outputs": [],
   "source": [
    "from SPARQLWrapper import SPARQLWrapper, SPARQLWrapper2, JSON, TURTLE, XML, RDFXML\n",
    "import pandas as pd\n",
    "import matplotlib.pyplot as plt"
   ]
  },
  {
   "cell_type": "code",
   "execution_count": null,
   "metadata": {},
   "outputs": [],
   "source": [
    "import pprint\n",
    "import csv\n",
    "import ast\n",
    "\n",
    "from collections import Counter\n",
    "from operator import itemgetter\n",
    "\n",
    "import sqlite3 as sql\n",
    "import time\n",
    "\n",
    "from importlib import reload\n",
    "from shutil import copyfile"
   ]
  },
  {
   "cell_type": "code",
   "execution_count": null,
   "metadata": {},
   "outputs": [],
   "source": [
    "### Importer un module de fonctions crée ad hoc\n",
    "import sparql_functions as spqf"
   ]
  },
  {
   "cell_type": "code",
   "execution_count": null,
   "metadata": {},
   "outputs": [],
   "source": [
    "### Recharger le module après modification des fonctions dans le fichier du module\n",
    "# désactivé #  \n",
    "reload(spqf)"
   ]
  },
  {
   "cell_type": "code",
   "execution_count": null,
   "metadata": {},
   "outputs": [],
   "source": []
  },
  {
   "cell_type": "markdown",
   "metadata": {},
   "source": [
    "### Versionnement manuel de la base de donnée des requêtes"
   ]
  },
  {
   "cell_type": "code",
   "execution_count": null,
   "metadata": {},
   "outputs": [],
   "source": [
    "### Fonction qui récupère et met en forme le temps au moment de l'exécution\n",
    "\n",
    "# définition\n",
    "def timestamp_formatted_for_file_name():\n",
    "    is_now = time.strftime('%Y%m%d_%H%M%S')\n",
    "    return is_now\n",
    "\n",
    "# exécution\n",
    "timestamp_formatted_for_file_name()"
   ]
  },
  {
   "cell_type": "code",
   "execution_count": null,
   "metadata": {},
   "outputs": [],
   "source": [
    "timestamp_formatted_for_file_name()"
   ]
  },
  {
   "cell_type": "code",
   "execution_count": null,
   "metadata": {},
   "outputs": [],
   "source": [
    "### Définir les adresses des fichiers, l'existant et celui à créer\n",
    "original_db = 'data/sparql_queries.db'\n",
    "\n",
    "##  Noter que la différence de suffixe, en soi totalement arbitraire, \n",
    "#  dépend du fait que dans la configuration de .gitignore, .sqlite est exclu du verisonnement GIT\n",
    "#  contrairement à .db qui est versionné\n",
    "timestamped_db_copy = 'data/sparql_queries_' + timestamp_formatted_for_file_name() + '.sqlite'"
   ]
  },
  {
   "cell_type": "code",
   "execution_count": null,
   "metadata": {},
   "outputs": [],
   "source": [
    "### Créer une copie de sauvegarde avec timestamp du fichier (versionnement manuel)\n",
    "# ATTENTION : la base de données doit exister à l'endroit indiqué !\n",
    "## Cette requête n'est utile que si des modifications en écriture vont être apportées à la base de données,\n",
    "# afint de préserver le dernier état avant modification\n",
    "\n",
    "## Documentation:\n",
    "# https://docs.python.org/3/library/shutil.htmlcopied_db = copyfile(original_db, timestamped_db_copy)\n",
    "\n",
    "copied_db = copyfile(original_db, timestamped_db_copy)\n",
    "copied_db"
   ]
  },
  {
   "cell_type": "code",
   "execution_count": null,
   "metadata": {},
   "outputs": [],
   "source": []
  },
  {
   "cell_type": "markdown",
   "metadata": {},
   "source": [
    "## Explorer Wikipedia / DBPedia\n",
    "\n",
    "DBPedia est une base de données au format RDF réalisée par extraction de données semistructurées et structurées à partir (principalement) des Infobox et du résumé des pages de Wikipedia.\n",
    "\n",
    "Les versions de DBPedia sont liées aux versions linguistiques de Wikipedia et dépendent de l'activité de 'chapitres' nationaux de DBPedia qui effectuent ces extractions. Il existe une [communauté (un 'chapitre')](https://www.data.gouv.fr/fr/datasets/dbpedia-fr-le-chapitre-francophone-de-dbpedia/) et une [version francophone](http://fr.dbpedia.org/).\n",
    "\n",
    "Nous explorerons ici la version anglaise qui est la plus riche mais les différentes versions sont connectées, et on peut profiter de ces versions."
   ]
  },
  {
   "cell_type": "markdown",
   "metadata": {},
   "source": [
    "### Wikipedia: Les économistes, page \"Economist\"\n",
    "\n",
    "*  https://en.wikipedia.org/wiki/Economist\n",
    "*  https://en.wikipedia.org/wiki/Economics\n",
    "\n",
    "\n",
    "### DBPedia : Economist\n",
    "\n",
    "*  https://dbpedia.org/page/Economist  (an instance of the class [Person Function](https://dbpedia.org/ontology/PersonFunction) )\n",
    "*  https://dbpedia.org/ontology/Economist  (a class)\n",
    "\n",
    "\n",
    "*  https://dbpedia.org/page/Economics\n"
   ]
  },
  {
   "cell_type": "markdown",
   "metadata": {},
   "source": [
    "### DBPedia SPARQL Endpoint\n",
    "\n",
    "*  https://dbpedia.org/sparql\n",
    "*  https://live.dbpedia.org/sparql (mis à jour en permanence, à utiliser pour les requêtes fédérées, i.e. la clause SERVICE)\n",
    "\n",
    "Documentation : [SPARQL 1.1 Query Language](http://www.w3.org/TR/sparql11-query/)"
   ]
  },
  {
   "cell_type": "markdown",
   "metadata": {},
   "source": [
    "### Keynes dans DBPedia\n",
    "\n",
    "*  https://en.wikipedia.org/wiki/John_Maynard_Keynes\n",
    "*  https://dbpedia.org/page/John_Maynard_Keynes\n",
    "\n"
   ]
  },
  {
   "cell_type": "raw",
   "metadata": {},
   "source": [
    "<!-- Extrait de l'info box de la page : https://en.wikipedia.org/wiki/John_Maynard_Keynes -->\n",
    "<table class=\"infobox biography vcard\" style=\"width:22em\">\n",
    " <tbody>\n",
    "  <tr>\n",
    "    <th scope=\"row\">Born</th>\n",
    "    <td>\n",
    "      <span style=\"display:none\">(<span class=\"bday\">1883-06-05</span>)</span>5 June 1883<br />\n",
    "      <div style=\"display:inline\" class=\"birthplace\">\n",
    "        <a href=\"/wiki/Cambridge\" title=\"Cambridge\">Cambridge</a>, <a href=\"/wiki/Cambridgeshire\" title=\"Cambridgeshire\">Cambridgeshire</a>, England</div>\n",
    "      </td>\n",
    "    </tr>\n",
    "    <tr>\n",
    "      <th scope=\"row\">Alma&#160;mater</th>\n",
    "      <td>\n",
    "        <a href=\"/wiki/Eton_College\" title=\"Eton College\">Eton College</a>\n",
    "        <br />\n",
    "        <a href=\"/wiki/King%E2%80%99s_College,_Cambridge\" class=\"mw-redirect\" title=\"King’s College, Cambridge\">King’s College, Cambridge</a>\n",
    "      </td>\n",
    "    </tr>\n",
    "    <tr>\n",
    "      <th scope=\"row\">Political party</th>\n",
    "      <td class=\"org\">\n",
    "        <a href=\"/wiki/Liberal_Party_(UK)\" title=\"Liberal Party (UK)\">Liberal</a>\n",
    "      </td>\n",
    "    </tr>\n",
    "  </tbody>\n",
    "</table>"
   ]
  },
  {
   "cell_type": "code",
   "execution_count": null,
   "metadata": {},
   "outputs": [],
   "source": []
  },
  {
   "cell_type": "code",
   "execution_count": null,
   "metadata": {},
   "outputs": [],
   "source": []
  },
  {
   "cell_type": "code",
   "execution_count": null,
   "metadata": {},
   "outputs": [],
   "source": []
  },
  {
   "cell_type": "markdown",
   "metadata": {},
   "source": [
    "## Premières requêtes SPARQL"
   ]
  },
  {
   "cell_type": "markdown",
   "metadata": {},
   "source": [
    "### Utiliser le point d'accès SPARQL de DBPedia\n",
    "\n",
    "* Interroger le point d'accès de DBPedia \n",
    "  * Ouvrir dans une autre fenêtre du navigateur:\n",
    "  * https://dbpedia.org/sparql\n",
    "* Copier-coller le texte de la requête ci-dessous dans le navigateur:\n",
    "* Exécuter et inspecter le résultat\n",
    "\n",
    "\n",
    "NB : exécuter des requêtes directement sur le point SPARQL DBPedia permet de tester pour vérifier si elles fonctionnent correctement\n",
    "\n"
   ]
  },
  {
   "cell_type": "code",
   "execution_count": null,
   "metadata": {},
   "outputs": [],
   "source": [
    "###  Définir la variable contenant la requête SPARQL\n",
    "# Requête : toutes les propriétés concernant Keynes\n",
    "\n",
    "q_1 = \"\"\"\n",
    "\n",
    "PREFIX dbpedia: <http://dbpedia.org/resource/>\n",
    "SELECT ?p ?o WHERE {\n",
    "dbpedia:John_Maynard_Keynes ?p ?o\n",
    "}\n",
    "\n",
    "\"\"\""
   ]
  },
  {
   "cell_type": "code",
   "execution_count": null,
   "metadata": {},
   "outputs": [],
   "source": [
    "###  Requête: toutes les propriétés ayant un texte en anglais en objet\n",
    "\n",
    "\n",
    "q_2 = \"\"\"\n",
    "\n",
    "PREFIX dbpedia: <http://dbpedia.org/resource/>\n",
    "SELECT ?p ?o WHERE {\n",
    "dbpedia:John_Maynard_Keynes ?p ?o.\n",
    "FILTER ( lang(?o) = \"en\" ) \n",
    "}\n",
    "\n",
    "\"\"\""
   ]
  },
  {
   "cell_type": "code",
   "execution_count": null,
   "metadata": {},
   "outputs": [],
   "source": [
    "###  Requête: compter et regrouper les propriétés\n",
    "\n",
    "q_3 = \"\"\"\n",
    "\n",
    "PREFIX dbpedia: <http://dbpedia.org/resource/>\n",
    "SELECT ?p (COUNT(*) as ?eff) WHERE {\n",
    "dbpedia:John_Maynard_Keynes ?p ?o.\n",
    "}\n",
    "GROUP BY ?p\n",
    "ORDER BY DESC(?eff)\n",
    "\n",
    "\"\"\""
   ]
  },
  {
   "cell_type": "code",
   "execution_count": null,
   "metadata": {},
   "outputs": [],
   "source": [
    "### Requête: inspecter le contenu des différentes propriétés, en les analysant une par une\n",
    "\n",
    "# Astuce: ouvrir une nouvelle fenêtre du point d'accès SPARQL DBPedia\n",
    "# A partir du résultat de la requête précédente, copier coller les proriétés et exécuter\n",
    "\n",
    "q_4 = \"\"\"\n",
    "\n",
    "PREFIX dbpedia: <http://dbpedia.org/resource/>\n",
    "SELECT ?o WHERE {\n",
    "dbpedia:John_Maynard_Keynes <http://dbpedia.org/ontology/birthPlace> ?o.\n",
    "}\n",
    "\n",
    "\"\"\""
   ]
  },
  {
   "cell_type": "code",
   "execution_count": null,
   "metadata": {},
   "outputs": [],
   "source": [
    "### Requête : compter les instances (personnes) de la classe dbo:Economist\n",
    "\n",
    "q_5 = \"\"\"\n",
    "PREFIX  dbo:  <http://dbpedia.org/ontology/>\n",
    "\n",
    "SELECT  (COUNT(*) AS ?freq)\n",
    "WHERE\n",
    "{ ?person  a dbo:Economist.\n",
    "}\n",
    "\n",
    "\"\"\""
   ]
  },
  {
   "cell_type": "markdown",
   "metadata": {},
   "source": [
    "### Exécuter les mêmes requêtes depuis le carnet Jupyter"
   ]
  },
  {
   "cell_type": "code",
   "execution_count": null,
   "metadata": {},
   "outputs": [],
   "source": [
    "### Librairie SPARQLWrapper, indiquer sur quel point d'accès SPARQL exécuter la requête\n",
    "sparql = SPARQLWrapper(\"https://dbpedia.org/sparql\") ##, returnFormat=RDFXML)"
   ]
  },
  {
   "cell_type": "code",
   "execution_count": null,
   "metadata": {},
   "outputs": [],
   "source": [
    "### Mettre en argument de la fonction setQuery, qui définit la requête, le nom de la variable correspondante\n",
    "#  On définit le format du resultat (JSON), puis on effectue la requête en ligne \n",
    "# et on inspecte le type de résultat: le résultat en JSON a été transformé en une variable 'dictionnaire'\n",
    "\n",
    "sparql.setQuery(q_3)\n",
    "sparql.setReturnFormat(JSON)\n",
    "rc = sparql.queryAndConvert()\n",
    "type(rc)"
   ]
  },
  {
   "cell_type": "code",
   "execution_count": null,
   "metadata": {
    "scrolled": true
   },
   "outputs": [],
   "source": [
    "### Inspecter le résultat complet\n",
    "# Activer 'enable scrolling outputs' dans le carnet Jupyter (click droit sur le résultat)\n",
    "rc"
   ]
  },
  {
   "cell_type": "code",
   "execution_count": null,
   "metadata": {},
   "outputs": [],
   "source": [
    "### En alternative à la requête précédente, transformer le résultat JSON en texte et inspecter les 500 premiers caractères\n",
    "str(rc)[:500]"
   ]
  },
  {
   "cell_type": "markdown",
   "metadata": {},
   "source": [
    "#### Documentation JSON / Python _dictionary_\n",
    "\n",
    "* https://docs.python.org/3/library/json.html\n",
    "* https://docs.python.org/3/tutorial/datastructures.html#dictionaries\n"
   ]
  },
  {
   "cell_type": "code",
   "execution_count": null,
   "metadata": {},
   "outputs": [],
   "source": [
    "### Nombre de lignes du résultat, utiliser la structure JSON (dictionnaire en Python)\n",
    "len(rc['results']['bindings'])"
   ]
  },
  {
   "cell_type": "code",
   "execution_count": null,
   "metadata": {},
   "outputs": [],
   "source": [
    "# Inspecter les trois premières lignes du résultat\n",
    "i = 0\n",
    "for l in rc['results']['bindings']:\n",
    "    if i < 3:\n",
    "        print(l)\n",
    "        i += 1"
   ]
  },
  {
   "cell_type": "code",
   "execution_count": null,
   "metadata": {
    "scrolled": true
   },
   "outputs": [],
   "source": [
    "r = [print(l) for l in spqf.sparql_result_to_list(rc)]"
   ]
  },
  {
   "cell_type": "code",
   "execution_count": null,
   "metadata": {},
   "outputs": [],
   "source": []
  },
  {
   "cell_type": "markdown",
   "metadata": {},
   "source": [
    "## Effectifs et propriétés de 'economist' et 'economics'"
   ]
  },
  {
   "cell_type": "markdown",
   "metadata": {},
   "source": [
    "### Stocker les requêtes dans une base de données SQLite\n",
    "\n",
    "\n",
    "*  Afin de ne pas surcharger le carnet, les requêtes SPARQL et les résultats sont stockées dans une base de données SQLite.\n",
    "*  Elle se trouve dans le dossier _data/sparql_queries.db_ .\n",
    "*  On peut l'ouvrir et l'éditer avec le logiciel SQLiteStudio, cf. les indications de [cette page](http://phn-wiki.ish-lyon.cnrs.fr/doku.php?id=intro_histoire_numerique:modelisation_bases_donnees)\n",
    "\n",
    "\n",
    "#### Manière de procéder\n",
    "\n",
    "* Préparer la requête directement dans l'éditeur du point d'accès SPARQ original, dans ce cas: https://dbpedia.org/sparql\n",
    "* Si nécessaire, valider et formater les requêtes dans ces plateformes:\n",
    "  *  https://linked.bodc.ac.uk/validate/query\n",
    "  *  http://sparql.org/query-validator.html\n",
    "* Copier ensuite la requête dans une nouvelle ligne de la base de données, table _query_\n",
    "* Ajouter un titre, un descriptif, l'adresse du point d'accès SPARQL dans la nouvelle ligne de la base de données\n",
    "* Choisir la ligne à exécuter et retenir les numéro de sa clé primaire (_pk_query_)\n"
   ]
  },
  {
   "cell_type": "code",
   "execution_count": null,
   "metadata": {
    "scrolled": true
   },
   "outputs": [],
   "source": [
    "### Inspecter les requêtes existantes\n",
    "\n",
    "# connnexion à la base de données\n",
    "original_db = 'data/sparql_queries.db'\n",
    "conn = sql.connect(original_db)\n",
    "\n",
    "### exécuter la requëte sur la base de donées SQLite pour récupérer les valeurs que contient la ligne\n",
    "c = conn.cursor()\n",
    "c.execute('SELECT pk_query, label, description, sparql_endpoint FROM query')\n",
    "r_all = c.fetchall()\n",
    "\n",
    "# fermer la connexion\n",
    "conn.close()\n",
    "r_all"
   ]
  },
  {
   "cell_type": "code",
   "execution_count": null,
   "metadata": {},
   "outputs": [],
   "source": []
  },
  {
   "cell_type": "code",
   "execution_count": null,
   "metadata": {},
   "outputs": [],
   "source": [
    "### Définir la ligne de la base de données à utiliser (inspécter préalablement la base de données)\n",
    "pk_query = ('4')\n",
    "\n",
    "# connnexion à la base de données\n",
    "original_db = 'data/sparql_queries.db'\n",
    "conn = sql.connect(original_db)\n",
    "\n",
    "### exécuter la requëte sur la base de donées SQLite pour récupérer les valeurs que contient la ligne\n",
    "c = conn.cursor()\n",
    "c.execute('SELECT * FROM query WHERE pk_query = ?', pk_query)\n",
    "rc = c.fetchone()\n",
    "\n",
    "# fermer la connexion\n",
    "conn.close()\n",
    "\n",
    "# imprimer et inspecter le résultat\n",
    "pprint.pprint(rc)"
   ]
  },
  {
   "cell_type": "code",
   "execution_count": null,
   "metadata": {},
   "outputs": [],
   "source": [
    "print(rc[4],'\\n---\\n',rc[5])"
   ]
  },
  {
   "cell_type": "markdown",
   "metadata": {},
   "source": [
    "### Exécuter les requêtes SPARQL en utilisant les fonctions-utilisateur"
   ]
  },
  {
   "cell_type": "code",
   "execution_count": null,
   "metadata": {},
   "outputs": [],
   "source": [
    "### Exécuter la requête SPARQL enveloppée par cette fonction, \n",
    "# elle se trouve dans le biliothèque-utilisateur _sparql_functions.py_\n",
    "# le premier paramètre correspond au point d'accès SPARQL, le deuxième à la requête\n",
    "qr = spqf.get_json_sparql_result(rc[4],rc[5])"
   ]
  },
  {
   "cell_type": "code",
   "execution_count": null,
   "metadata": {},
   "outputs": [],
   "source": [
    "# Nombre de lignes de la réponse\n",
    "len(qr['results']['bindings'])"
   ]
  },
  {
   "cell_type": "code",
   "execution_count": null,
   "metadata": {},
   "outputs": [],
   "source": [
    "# Inspecter les trois premières lignes\n",
    "i = 0\n",
    "for l in qr['results']['bindings']:\n",
    "    if i < 3:\n",
    "        print(l)\n",
    "        i += 1"
   ]
  },
  {
   "cell_type": "code",
   "execution_count": null,
   "metadata": {
    "scrolled": true
   },
   "outputs": [],
   "source": [
    "# Transformer le résultat en liste en utilisant une autre fonction de la bibliothèque utilisateur\n",
    "r = [l for l in spqf.sparql_result_to_list(qr)]\n",
    "# r"
   ]
  },
  {
   "cell_type": "code",
   "execution_count": null,
   "metadata": {},
   "outputs": [],
   "source": [
    "# inspecter une seule ligne de la liste (de listes)\n",
    "r[0]"
   ]
  },
  {
   "cell_type": "markdown",
   "metadata": {},
   "source": [
    "### Stocker le résultat dans la base de données SQLite"
   ]
  },
  {
   "cell_type": "code",
   "execution_count": null,
   "metadata": {},
   "outputs": [],
   "source": [
    "### OPTIONNEL : si souhaité, stocker la réponse du point d'accès SPARQL dans la table 'result' de la base de données \n",
    "\n",
    "conn = sql.connect(original_db)\n",
    "c = conn.cursor()\n",
    "values = (pk_query, str(qr),timestamp_formatted_for_file_name())\n",
    "\n",
    "# https://www.techonthenet.com/sqlite/functions/now.php\n",
    "c.execute(\"INSERT INTO result (fk_query, result, tmsp) VALUES (?,?,?)\", values)\n",
    "# valider l'insertion et fermer la base de données\n",
    "## désactivé ## conn.commit()\n",
    "conn.close()"
   ]
  },
  {
   "cell_type": "code",
   "execution_count": null,
   "metadata": {
    "scrolled": true
   },
   "outputs": [],
   "source": [
    "### Inspecter le résultat d'une requête après insertion, une fois l'insert ci-dessus effectué\n",
    "\n",
    "# Définir la ligne de la base de données à chercher (inspécter préalablement la base de données)\n",
    "pk_result = ('4')\n",
    "\n",
    "# connnexion à la base de données\n",
    "original_db = 'data/sparql_queries.db'\n",
    "conn = sql.connect(original_db)\n",
    "\n",
    "### exécuter la requëte sur la base de donées SQLite pour récupérer les valeurs que contient la ligne\n",
    "c = conn.cursor()\n",
    "c.execute('SELECT * FROM result WHERE pk_result = ?', pk_result)\n",
    "result_q = c.fetchone()\n",
    "\n",
    "# fermer la connexion\n",
    "conn.close()\n",
    "# result_q[3]"
   ]
  },
  {
   "cell_type": "code",
   "execution_count": null,
   "metadata": {},
   "outputs": [],
   "source": [
    "### Transform string to dict\n",
    "## Doc.:\n",
    "# https://stackoverflow.com/questions/988228/convert-a-string-representation-of-a-dictionary-to-a-dictionary\n",
    "d = ast.literal_eval(result_q[3])\n",
    "type(d)"
   ]
  },
  {
   "cell_type": "code",
   "execution_count": null,
   "metadata": {
    "scrolled": true
   },
   "outputs": [],
   "source": [
    "# Transformer le résultat en liste en utilisant une autre fonction de la bibliothèque utilisateur\n",
    "r = [l for l in spqf.sparql_result_to_list(d)]\n",
    "print(len(r))\n",
    "r"
   ]
  },
  {
   "cell_type": "code",
   "execution_count": null,
   "metadata": {},
   "outputs": [],
   "source": []
  },
  {
   "cell_type": "markdown",
   "metadata": {},
   "source": [
    "### Inspecter les années de naissance et compter le nombre de naissances par années"
   ]
  },
  {
   "cell_type": "code",
   "execution_count": null,
   "metadata": {},
   "outputs": [],
   "source": [
    "# Explore\n",
    "listeAnnees = []\n",
    "for l in r:\n",
    "    listeAnnees.append(int(l[1]))"
   ]
  },
  {
   "cell_type": "code",
   "execution_count": null,
   "metadata": {},
   "outputs": [],
   "source": [
    "listeAnnees[:10]"
   ]
  },
  {
   "cell_type": "code",
   "execution_count": null,
   "metadata": {},
   "outputs": [],
   "source": [
    "min(listeAnnees), max(listeAnnees)"
   ]
  },
  {
   "cell_type": "code",
   "execution_count": null,
   "metadata": {},
   "outputs": [],
   "source": [
    "listeAnnees.sort()"
   ]
  },
  {
   "cell_type": "code",
   "execution_count": null,
   "metadata": {},
   "outputs": [],
   "source": [
    "listeAnnees[:10]"
   ]
  },
  {
   "cell_type": "markdown",
   "metadata": {},
   "source": [
    "### Tester le comportement des graphiques si les données sont lacunaires"
   ]
  },
  {
   "cell_type": "code",
   "execution_count": 160,
   "metadata": {},
   "outputs": [
    {
     "data": {
      "text/plain": [
       "[1860, 1864, 1864, 1868, 1872, 1876, 1876, 1880, 1880, 1880]"
      ]
     },
     "execution_count": 160,
     "metadata": {},
     "output_type": "execute_result"
    }
   ],
   "source": [
    "### Grâce à l'opération modulo on ne retient que les années qui sont multiple de 4\n",
    "fakeList = [a for a in listeAnnees if a % 4 == 0]\n",
    "fakeList[10:20]"
   ]
  },
  {
   "cell_type": "code",
   "execution_count": 162,
   "metadata": {},
   "outputs": [
    {
     "data": {
      "text/plain": [
       "[(1808, 1),\n",
       " (1828, 1),\n",
       " (1840, 1),\n",
       " (1844, 2),\n",
       " (1848, 1),\n",
       " (1852, 3),\n",
       " (1860, 2),\n",
       " (1864, 2),\n",
       " (1868, 1),\n",
       " (1872, 1)]"
      ]
     },
     "execution_count": 162,
     "metadata": {},
     "output_type": "execute_result"
    }
   ],
   "source": [
    "# Compter les naissances par année\n",
    "counterFakeListeAnnees = Counter(fakeList)\n",
    "groupedFakeListeAnnees = list(zip(counterFakeListeAnnees.keys(), counterFakeListeAnnees.values()))\n",
    "groupedFakeListeAnnees[:10]"
   ]
  },
  {
   "cell_type": "code",
   "execution_count": 163,
   "metadata": {},
   "outputs": [
    {
     "data": {
      "text/plain": [
       "[<matplotlib.lines.Line2D at 0x1587335d0>]"
      ]
     },
     "execution_count": 163,
     "metadata": {},
     "output_type": "execute_result"
    },
    {
     "data": {
      "image/png": "[encoded data removed]",
      "text/plain": [
       "<Figure size 1080x504 with 1 Axes>"
      ]
     },
     "metadata": {
      "needs_background": "light"
     },
     "output_type": "display_data"
    }
   ],
   "source": [
    "objects = [l[0] for l in groupedFakeListeAnnees]\n",
    "eff = [l[1] for l in groupedFakeListeAnnees]\n",
    "\n",
    "plt.figure(figsize=(15,7))\n",
    "plt.plot(objects, eff)"
   ]
  },
  {
   "cell_type": "code",
   "execution_count": 164,
   "metadata": {},
   "outputs": [
    {
     "data": {
      "text/plain": [
       "<BarContainer object of 38 artists>"
      ]
     },
     "execution_count": 164,
     "metadata": {},
     "output_type": "execute_result"
    },
    {
     "data": {
      "image/png": "[encoded data removed]",
      "text/plain": [
       "<Figure size 1080x504 with 1 Axes>"
      ]
     },
     "metadata": {
      "needs_background": "light"
     },
     "output_type": "display_data"
    }
   ],
   "source": [
    "objects = [l[0] for l in groupedFakeListeAnnees]\n",
    "eff = [l[1] for l in groupedFakeListeAnnees]\n",
    "\n",
    "plt.figure(figsize=(15,7))\n",
    "plt.bar(objects, eff)"
   ]
  },
  {
   "cell_type": "code",
   "execution_count": 165,
   "metadata": {
    "scrolled": true
   },
   "outputs": [
    {
     "data": {
      "text/plain": [
       "[[1801, 0],\n",
       " [1802, 0],\n",
       " [1803, 0],\n",
       " [1804, 0],\n",
       " [1805, 0],\n",
       " [1806, 0],\n",
       " [1807, 0],\n",
       " [1808, 1],\n",
       " [1809, 0],\n",
       " [1810, 0],\n",
       " [1811, 0],\n",
       " [1812, 0],\n",
       " [1813, 0],\n",
       " [1814, 0],\n",
       " [1815, 0],\n",
       " [1816, 0],\n",
       " [1817, 0],\n",
       " [1818, 0],\n",
       " [1819, 0],\n",
       " [1820, 0],\n",
       " [1821, 0],\n",
       " [1822, 0],\n",
       " [1823, 0],\n",
       " [1824, 0],\n",
       " [1825, 0],\n",
       " [1826, 0],\n",
       " [1827, 0],\n",
       " [1828, 1],\n",
       " [1829, 0],\n",
       " [1830, 0],\n",
       " [1831, 0],\n",
       " [1832, 0],\n",
       " [1833, 0],\n",
       " [1834, 0],\n",
       " [1835, 0],\n",
       " [1836, 0],\n",
       " [1837, 0],\n",
       " [1838, 0],\n",
       " [1839, 0],\n",
       " [1840, 1]]"
      ]
     },
     "execution_count": 165,
     "metadata": {},
     "output_type": "execute_result"
    }
   ],
   "source": [
    "start = 1801\n",
    "end = 1992\n",
    "\n",
    "lYears = []\n",
    "year = start\n",
    "while year < end:\n",
    "    c = 0\n",
    "    for y in fakeList:\n",
    "        if y == year:\n",
    "            c += 1\n",
    "    lYears.append([year, c]) \n",
    "    year += 1\n",
    "lYears [:40]    "
   ]
  },
  {
   "cell_type": "code",
   "execution_count": 166,
   "metadata": {},
   "outputs": [
    {
     "data": {
      "text/plain": [
       "[1801, 1806, 1811, 1816, 1821, 1826, 1831, 1836, 1841, 1846]"
      ]
     },
     "execution_count": 166,
     "metadata": {},
     "output_type": "execute_result"
    }
   ],
   "source": [
    "l5Years = []\n",
    "start = 1801\n",
    "end = 1992\n",
    "\n",
    "l5Years = []\n",
    "year = start\n",
    "while year < end:\n",
    "    l5Years.append(year) \n",
    "    year += 5\n",
    "l5Years [:10]    "
   ]
  },
  {
   "cell_type": "code",
   "execution_count": null,
   "metadata": {},
   "outputs": [],
   "source": [
    "# Distribution par année\n",
    "\n",
    "objects = [l[0] for l in lYears]\n",
    "eff = [l[1] for l in lYears]\n",
    "\n",
    "p1 = plt.bar(objects, eff)\n",
    "\n",
    "plt.xticks(l5Years)\n",
    "plt.ylabel('Effectif')\n",
    "plt.title('Naissances par année')\n",
    "plt.gcf().set_size_inches(16, 8)\n",
    "#plt.gca().axes.get_xaxis().set_visible(False)\n",
    "# supported formats: eps, pdf, pgf, png, ps, raw, rgba, svg, svgz\n",
    "#plt.savefig('exported_pictures/effectifs_naissances_par_annee.png', dpi=100, bbox_inches = \"tight\") #pdf, svg\n",
    "plt.xticks(rotation=45)\n",
    "plt.show()\n"
   ]
  },
  {
   "cell_type": "markdown",
   "metadata": {},
   "source": [
    "### Distribution des naissances par année et par période de 20 ans"
   ]
  },
  {
   "cell_type": "markdown",
   "metadata": {},
   "source": [
    "#### Regroupement des vraies valeurs par année"
   ]
  },
  {
   "cell_type": "code",
   "execution_count": 168,
   "metadata": {},
   "outputs": [],
   "source": [
    "# Compter les naissances par année\n",
    "counterListeAnnees = Counter(listeAnnees)\n",
    "groupedListeAnnees = list(zip(counterListeAnnees.keys(), counterListeAnnees.values()))"
   ]
  },
  {
   "cell_type": "code",
   "execution_count": 182,
   "metadata": {},
   "outputs": [
    {
     "data": {
      "text/plain": [
       "[(1908, 4),\n",
       " (1909, 1),\n",
       " (1910, 8),\n",
       " (1911, 5),\n",
       " (1912, 4),\n",
       " (1913, 4),\n",
       " (1914, 10),\n",
       " (1915, 5),\n",
       " (1916, 5),\n",
       " (1917, 8),\n",
       " (1918, 7),\n",
       " (1919, 8),\n",
       " (1920, 6),\n",
       " (1921, 12),\n",
       " (1922, 9)]"
      ]
     },
     "execution_count": 182,
     "metadata": {},
     "output_type": "execute_result"
    }
   ],
   "source": [
    "groupedListeAnnees[75:90]"
   ]
  },
  {
   "cell_type": "code",
   "execution_count": 179,
   "metadata": {},
   "outputs": [
    {
     "data": {
      "text/plain": [
       "[<matplotlib.lines.Line2D at 0x1597df710>]"
      ]
     },
     "execution_count": 179,
     "metadata": {},
     "output_type": "execute_result"
    },
    {
     "data": {
      "image/png": "[encoded data removed]",
      "text/plain": [
       "<Figure size 1080x504 with 1 Axes>"
      ]
     },
     "metadata": {
      "needs_background": "light"
     },
     "output_type": "display_data"
    }
   ],
   "source": [
    "objects = [l[0] for l in groupedListeAnnees]\n",
    "eff = [l[1] for l in groupedListeAnnees]\n",
    "\n",
    "plt.figure(figsize=(15,7))\n",
    "plt.plot(objects, eff)"
   ]
  },
  {
   "cell_type": "code",
   "execution_count": 172,
   "metadata": {},
   "outputs": [
    {
     "data": {
      "image/png": "[encoded data removed]",
      "text/plain": [
       "<Figure size 1152x576 with 1 Axes>"
      ]
     },
     "metadata": {
      "needs_background": "light"
     },
     "output_type": "display_data"
    }
   ],
   "source": [
    "# Distribution par année\n",
    "\n",
    "objects = [l[0] for l in groupedListeAnnees]\n",
    "eff = [l[1] for l in groupedListeAnnees]\n",
    "\n",
    "p1 = plt.bar(objects, eff)\n",
    "\n",
    "plt.xticks(l5Years)\n",
    "plt.ylabel('Effectif')\n",
    "plt.title('Naissances par année')\n",
    "plt.gcf().set_size_inches(16, 8)\n",
    "#plt.gca().axes.get_xaxis().set_visible(False)\n",
    "# supported formats: eps, pdf, pgf, png, ps, raw, rgba, svg, svgz\n",
    "#plt.savefig('exported_pictures/effectifs_naissances_par_annee.png', dpi=100, bbox_inches = \"tight\") #pdf, svg\n",
    "plt.xticks(rotation=45)\n",
    "plt.show()\n"
   ]
  },
  {
   "cell_type": "markdown",
   "metadata": {},
   "source": [
    "#### Regroupement des valeurs par 20 ans"
   ]
  },
  {
   "cell_type": "code",
   "execution_count": 173,
   "metadata": {},
   "outputs": [],
   "source": [
    "### Créer la liste des périodes de 20 ans, i.e. la liste de la première année de chaque période\n",
    "d20List = []\n",
    "period = 20\n",
    "d_start = 1801\n",
    "i = 0\n",
    "d20List.append(d_start)\n",
    "\n",
    "while i < 10:\n",
    "    d_start = d_start + period\n",
    "    d20List.append(d_start)\n",
    "    i += 1"
   ]
  },
  {
   "cell_type": "code",
   "execution_count": 174,
   "metadata": {},
   "outputs": [
    {
     "name": "stdout",
     "output_type": "stream",
     "text": [
      "[1801, 1821]\n"
     ]
    },
    {
     "data": {
      "text/plain": [
       "(1801, 2001)"
      ]
     },
     "execution_count": 174,
     "metadata": {},
     "output_type": "execute_result"
    }
   ],
   "source": [
    "print(d20List[:2])\n",
    "min(d20List), max(d20List)"
   ]
  },
  {
   "cell_type": "code",
   "execution_count": 176,
   "metadata": {},
   "outputs": [],
   "source": [
    "# Regroupement par période de 20 ans\n",
    "i20List = []\n",
    "for i in d20List:\n",
    "    i_n = 0\n",
    "    for l in groupedListeAnnees:\n",
    "        if l[0] >= i and l[0] < (i + 20):\n",
    "            i_n = i_n + l[1]\n",
    "    i20List.append([i, i_n])        "
   ]
  },
  {
   "cell_type": "code",
   "execution_count": 177,
   "metadata": {},
   "outputs": [
    {
     "data": {
      "text/plain": [
       "[1901, 107]"
      ]
     },
     "execution_count": 177,
     "metadata": {},
     "output_type": "execute_result"
    }
   ],
   "source": [
    "i20List[5]"
   ]
  },
  {
   "cell_type": "code",
   "execution_count": 183,
   "metadata": {},
   "outputs": [
    {
     "data": {
      "image/png": "[encoded data removed]",
      "text/plain": [
       "<Figure size 1152x576 with 1 Axes>"
      ]
     },
     "metadata": {
      "needs_background": "light"
     },
     "output_type": "display_data"
    }
   ],
   "source": [
    "# Distribution par période de 20 ans\n",
    "\n",
    "objects = [str(l[0]) for l in i20List]\n",
    "eff = [l[1] for l in i20List]\n",
    "\n",
    "p1 = plt.bar(objects, eff)\n",
    "\n",
    "plt.ylabel('Effectif')\n",
    "plt.title('Naissances par période de vingts ans')\n",
    "plt.gcf().set_size_inches(16, 8)\n",
    "# supported formats: eps, pdf, pgf, png, ps, raw, rgba, svg, svgz\n",
    "# plt.savefig('exported_pictures/effectifs_annees_reference_par_periode.png', dpi=100, bbox_inches = \"tight\") #pdf, svg\n",
    "plt.xticks(rotation=45)\n",
    "plt.show()\n"
   ]
  },
  {
   "cell_type": "code",
   "execution_count": null,
   "metadata": {},
   "outputs": [],
   "source": []
  },
  {
   "cell_type": "markdown",
   "metadata": {},
   "source": [
    "## Résultats pour inspection des propriétés disponibles\n",
    "\n",
    "Requêtes effectuées le 21 février 2021\n",
    "\n",
    "#### Economist (ontology) : https://dbpedia.org/ontology/Economist\n",
    "<code>\n",
    "['in', 'http://www.w3.org/1999/02/22-rdf-syntax-ns#type', '1570']\n",
    "['out', 'http://www.w3.org/2000/01/rdf-schema#label', '18']\n",
    "['out', 'http://www.w3.org/2000/01/rdf-schema#comment', '6']\n",
    "['out', 'http://www.w3.org/2002/07/owl#equivalentClass', '2']\n",
    "['out', 'http://www.w3.org/1999/02/22-rdf-syntax-ns#type', '2']\n",
    "['out', 'http://www.w3.org/ns/prov#wasDerivedFrom', '2']\n",
    "['out', 'http://www.w3.org/2000/01/rdf-schema#subClassOf', '2']\n",
    "['out', 'http://www.w3.org/2007/05/powder-s#describedby', '1']\n",
    "['in', 'http://open.vocab.org/terms/defines', '1']\n",
    "['out', 'http://www.w3.org/2000/01/rdf-schema#isDefinedBy', '1']\n",
    "['in', 'http://open.vocab.org/terms/describes', '1']\n",
    "    </code>\n",
    "\n",
    "\n",
    "#### Economist (resource): https://dbpedia.org/resource/Economist\n",
    "\n",
    "<code>\n",
    "['in', 'http://dbpedia.org/ontology/wikiPageWikiLink', '3667']\n",
    "['in', 'http://dbpedia.org/ontology/occupation', '380']\n",
    "['in', 'http://dbpedia.org/ontology/profession', '356']\n",
    "['in', 'http://dbpedia.org/property/profession', '314']\n",
    "['in', 'http://dbpedia.org/property/occupation', '248']\n",
    "['out', 'http://dbpedia.org/ontology/wikiPageWikiLink', '91']\n",
    "['out', 'http://www.w3.org/2002/07/owl#sameAs', '61']\n",
    "['in', 'http://dbpedia.org/ontology/academicDiscipline', '23']\n",
    "['out', 'http://www.w3.org/2000/01/rdf-schema#label', '21']\n",
    "['out', 'http://www.w3.org/2000/01/rdf-schema#comment', '20']\n",
    "['out', 'http://dbpedia.org/ontology/abstract', '20']\n",
    "['in', 'http://dbpedia.org/property/field', '19']\n",
    "['out', 'http://dbpedia.org/property/wikiPageUsesTemplate', '15']\n",
    "['in', 'http://dbpedia.org/ontology/field', '9']\n",
    "['in', 'http://dbpedia.org/property/fields', '8']\n",
    "['in', 'http://dbpedia.org/ontology/knownFor', '5']\n",
    "['in', 'http://dbpedia.org/property/discipline', '4']\n",
    "['in', 'http://dbpedia.org/ontology/wikiPageRedirects', '3']\n",
    "['out', 'http://purl.org/dc/terms/subject', '3']\n",
    "['out', 'http://dbpedia.org/ontology/wikiPageExternalLink', '2']\n",
    "['in', 'http://dbpedia.org/property/schoolTradition', '2']\n",
    "['out', 'http://www.w3.org/1999/02/22-rdf-syntax-ns#type', '2']\n",
    "['in', 'http://dbpedia.org/ontology/education', '2']\n",
    "['out', 'http://dbpedia.org/ontology/wikiPageRevisionID', '1']\n",
    "['out', 'http://dbpedia.org/ontology/thumbnail', '1']\n",
    "['out', 'http://dbpedia.org/ontology/wikiPageID', '1']\n",
    "['out', 'http://purl.org/dc/terms/isPartOf', '1']\n",
    "['in', 'http://dbpedia.org/property/office', '1']\n",
    "['in', 'http://dbpedia.org/ontology/institution', '1']\n",
    "['in', 'http://dbpedia.org/property/knownFor', '1']\n",
    "['in', 'http://dbpedia.org/property/contributions', '1']\n",
    "['out', 'http://xmlns.com/foaf/0.1/isPrimaryTopicOf', '1']\n",
    "['in', 'http://dbpedia.org/property/otheroccupation', '1']\n",
    "['in', 'http://dbpedia.org/ontology/influencedBy', '1']\n",
    "['in', 'http://xmlns.com/foaf/0.1/primaryTopic', '1']\n",
    "['in', 'http://dbpedia.org/ontology/wikiPageDisambiguates', '1']\n",
    "['in', 'http://dbpedia.org/property/laterwork', '1']\n",
    "['in', 'http://dbpedia.org/ontology/discipline', '1']\n",
    "['out', 'http://www.w3.org/ns/prov#wasDerivedFrom', '1']\n",
    "['in', 'http://dbpedia.org/property/education', '1']\n",
    "['out', 'http://www.w3.org/2000/01/rdf-schema#seeAlso', '1']\n",
    "['out', 'http://xmlns.com/foaf/0.1/depiction', '1']\n",
    "['out', 'http://dbpedia.org/ontology/wikiPageLength', '1']\n",
    "['out', 'http://www.w3.org/2004/02/skos/core#closeMatch', '1']\n",
    "\n",
    "</code>    \n",
    "\n",
    "\n",
    "\n",
    "\n",
    "#### Economics (https://dbpedia.org/resource/Economics)\n",
    "\n",
    "\n",
    "<code>\n",
    "['in', 'http://dbpedia.org/ontology/wikiPageWikiLink', '8925']\n",
    "['out', 'http://dbpedia.org/ontology/wikiPageWikiLink', '507']\n",
    "['in', 'http://dbpedia.org/ontology/academicDiscipline', '356']\n",
    "['in', 'http://dbpedia.org/property/field', '230']\n",
    "['in', 'http://dbpedia.org/property/discipline', '175']\n",
    "['in', 'http://dbpedia.org/ontology/field', '128']\n",
    "['out', 'http://www.w3.org/2002/07/owl#sameAs', '115']\n",
    "['in', 'http://dbpedia.org/property/fields', '86']\n",
    "['in', 'http://dbpedia.org/property/subject', '67']\n",
    "['in', 'http://dbpedia.org/ontology/nonFictionSubject', '61']\n",
    "['in', 'http://dbpedia.org/ontology/education', '53']\n",
    "['out', 'http://dbpedia.org/property/wikiPageUsesTemplate', '44']\n",
    "['in', 'http://dbpedia.org/ontology/wikiPageRedirects', '43']\n",
    "['in', 'http://dbpedia.org/property/genre', '30']\n",
    "['in', 'http://dbpedia.org/ontology/mainInterest', '29']\n",
    "['in', 'http://dbpedia.org/property/mainInterests', '29']\n",
    "['in', 'http://dbpedia.org/ontology/literaryGenre', '26']\n",
    "['out', 'http://dbpedia.org/ontology/wikiPageExternalLink', '25']\n",
    "['out', 'http://www.w3.org/2000/01/rdf-schema#comment', '22']\n",
    "['out', 'http://dbpedia.org/ontology/abstract', '22']\n",
    "['out', 'http://www.w3.org/2000/01/rdf-schema#label', '22']\n",
    "['in', 'http://dbpedia.org/ontology/knownFor', '21']\n",
    "['in', 'http://dbpedia.org/ontology/almaMater', '18']\n",
    "['in', 'http://dbpedia.org/ontology/occupation', '17']\n",
    "['in', 'http://dbpedia.org/property/education', '16']\n",
    "['in', 'http://dbpedia.org/property/skills', '16']\n",
    "['in', 'http://dbpedia.org/ontology/profession', '16']\n",
    "['in', 'http://dbpedia.org/ontology/genre', '14']\n",
    "['in', 'http://purl.org/dc/elements/1.1/subject', '12']\n",
    "['in', 'http://dbpedia.org/property/profession', '11']\n",
    "['in', 'http://dbpedia.org/property/knownFor', '10']\n",
    "['in', 'http://dbpedia.org/property/category', '7']\n",
    "['in', 'http://dbpedia.org/property/focus', '5']\n",
    "['in', 'http://dbpedia.org/ontology/type', '5']\n",
    "['in', 'http://dbpedia.org/property/industry', '5']\n",
    "['in', 'http://www.w3.org/2000/01/rdf-schema#seeAlso', '4']\n",
    "['in', 'http://dbpedia.org/property/type', '4']\n",
    "['in', 'http://dbpedia.org/property/occupation', '3']\n",
    "['in', 'http://dbpedia.org/property/researchField', '3']\n",
    "['in', 'http://dbpedia.org/ontology/industry', '3']\n",
    "['in', 'http://dbpedia.org/property/almaMater', '3']\n",
    "['out', 'http://www.w3.org/2000/01/rdf-schema#seeAlso', '3']\n",
    "['in', 'http://dbpedia.org/property/subjects', '3']\n",
    "['out', 'http://www.w3.org/2004/02/skos/core#closeMatch', '3']\n",
    "['in', 'http://dbpedia.org/property/schoolTradition', '2']\n",
    "['in', 'http://dbpedia.org/ontology/award', '2']\n",
    "['out', 'http://purl.org/dc/terms/subject', '2']\n",
    "['in', 'http://dbpedia.org/ontology/wikiPageDisambiguates', '2']\n",
    "['out', 'http://www.w3.org/1999/02/22-rdf-syntax-ns#type', '2']\n",
    "['in', 'http://www.w3.org/2002/07/owl#differentFrom', '2']\n",
    "['out', 'http://dbpedia.org/ontology/wikiPageRevisionID', '1']\n",
    "['out', 'http://dbpedia.org/ontology/thumbnail', '1']\n",
    "['out', 'http://dbpedia.org/ontology/wikiPageID', '1']\n",
    "['out', 'http://purl.org/dc/terms/isPartOf', '1']\n",
    "['in', 'http://dbpedia.org/property/faculty', '1']\n",
    "['in', 'http://dbpedia.org/property/group', '1']\n",
    "['in', 'http://dbpedia.org/ontology/picture', '1']\n",
    "['in', 'http://dbpedia.org/property/skillsTested', '1']\n",
    "['out', 'http://xmlns.com/foaf/0.1/isPrimaryTopicOf', '1']\n",
    "['out', 'http://dbpedia.org/property/onlinebooks', '1']\n",
    "['in', 'http://dbpedia.org/property/scope', '1']\n",
    "['in', 'http://dbpedia.org/property/topics', '1']\n",
    "['out', 'http://dbpedia.org/property/label', '1']\n",
    "['in', 'http://xmlns.com/foaf/0.1/primaryTopic', '1']\n",
    "['in', 'http://dbpedia.org/property/purpose', '1']\n",
    "['in', 'http://dbpedia.org/property/subDiscipline', '1']\n",
    "['out', 'http://dbpedia.org/property/by', '1']\n",
    "['out', 'http://www.w3.org/ns/prov#wasDerivedFrom', '1']\n",
    "['in', 'http://dbpedia.org/property/activitySector', '1']\n",
    "['in', 'http://dbpedia.org/property/classesOffered', '1']\n",
    "['out', 'http://dbpedia.org/property/about', '1']\n",
    "['out', 'http://xmlns.com/foaf/0.1/depiction', '1']\n",
    "['out', 'http://dbpedia.org/ontology/wikiPageLength', '1']\n",
    "['in', 'http://dbpedia.org/property/vp', '1']\n",
    "['out', 'http://dbpedia.org/property/others', '1']\n",
    "['in', 'http://dbpedia.org/ontology/service', '1']\n",
    "</code>    "
   ]
  },
  {
   "cell_type": "code",
   "execution_count": null,
   "metadata": {},
   "outputs": [],
   "source": []
  },
  {
   "cell_type": "code",
   "execution_count": null,
   "metadata": {},
   "outputs": [],
   "source": []
  },
  {
   "cell_type": "code",
   "execution_count": null,
   "metadata": {},
   "outputs": [],
   "source": []
  }
 ],
 "metadata": {
  "kernelspec": {
   "display_name": "Py 3.7 HN sparql",
   "language": "python",
   "name": "py37_hn_sparql"
  },
  "language_info": {
   "codemirror_mode": {
    "name": "ipython",
    "version": 3
   },
   "file_extension": ".py",
   "mimetype": "text/x-python",
   "name": "python",
   "nbconvert_exporter": "python",
   "pygments_lexer": "ipython3",
   "version": "3.7.8"
  },
  "toc-autonumbering": false
 },
 "nbformat": 4,
 "nbformat_minor": 4
}
